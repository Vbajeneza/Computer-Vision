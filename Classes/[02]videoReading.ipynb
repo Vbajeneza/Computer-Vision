{
 "cells": [
  {
   "cell_type": "code",
   "execution_count": 1,
   "metadata": {},
   "outputs": [],
   "source": [
    "import cv2\n",
    "import numpy as np"
   ]
  },
  {
   "cell_type": "markdown",
   "metadata": {},
   "source": [
    "## 1.Video/Camera Reading"
   ]
  },
  {
   "cell_type": "code",
   "execution_count": 2,
   "metadata": {},
   "outputs": [],
   "source": [
    "cap=cv2.VideoCapture('stopwatch.avi') #Reading from file\n",
    "#cap=cv2.VideoCapture(0) #capture from camera"
   ]
  },
  {
   "cell_type": "code",
   "execution_count": 3,
   "metadata": {},
   "outputs": [],
   "source": [
    "if not cap.isOpened():\n",
    "    print(\"Video open failed\")\n",
    "else:\n",
    "    while True:\n",
    "        ret,frame=cap.read()\n",
    "        if not ret: break\n",
    "        \n",
    "         #frame[:,:,1] = frame[:,:,2]  = 0                \n",
    "        #frame[:,:,1] = frame[:,:,0]\n",
    "        #frame[:,:,2] = frame[:,:,0]\n",
    "        cv2.imshow('frame',frame)\n",
    "       \n",
    "        \n",
    "        \n",
    "        if cv2.waitKey(10)==27:break  #ESC\n",
    "cap.release() #to release the storage we don't need\n",
    "cv2.destroyAllWindows()"
   ]
  },
  {
   "cell_type": "code",
   "execution_count": 4,
   "metadata": {},
   "outputs": [
    {
     "name": "stdout",
     "output_type": "stream",
     "text": [
      "(3, 20, 'hello')\n",
      "3\n",
      "20\n",
      "hello\n"
     ]
    }
   ],
   "source": [
    "def fun():\n",
    "    return (3,20,'hello')\n",
    "a=fun()\n",
    "print(a)\n",
    "p1,p2,p3=fun()\n",
    "print(p1)\n",
    "print(p2)\n",
    "print(p3)\n",
    "p1,p2,_=fun()  #_ means we'll not use the third parameter"
   ]
  },
  {
   "cell_type": "code",
   "execution_count": 63,
   "metadata": {},
   "outputs": [],
   "source": [
    "import numpy as np \n",
    "import cv2 \n",
    "import time \n",
    "\n",
    "  \n",
    "# creating the videocapture object \n",
    "# and reading from the input file \n",
    "# Change it to 0 if reading from webcam \n",
    "\n",
    "cap = cv2.VideoCapture('stopwatch.avi') \n",
    "#cap=cv2.VideoCapture(0)\n",
    "\n",
    "# used to record the time when we processed last frame \n",
    "\n",
    "prev_frame_time = 0\n",
    "\n",
    "  \n",
    "# used to record the time at which we processed current frame \n",
    "new_frame_time = 0\n",
    "\n",
    "  \n",
    "# Reading the video file until finished \n",
    "while(cap.isOpened()): \n",
    "    # Capture frame-by-frame \n",
    "    ret, frame = cap.read() \n",
    "    # if video finished or no Video Input \n",
    "\n",
    "    if not ret: \n",
    "\n",
    "        break\n",
    "\n",
    "    # Our operations on the frame come here \n",
    "\n",
    "    gray = frame \n",
    "\n",
    "    # resizing the frame size according to our need \n",
    "\n",
    "    gray = cv2.resize(gray, (640, 480)) \n",
    "\n",
    "    # font which we will be using to display FPS \n",
    "\n",
    "    font = cv2.FONT_HERSHEY_SIMPLEX \n",
    "\n",
    "    # time when we finish processing for this frame \n",
    "\n",
    "    new_frame_time = time.time()\n",
    "\n",
    "    # Calculating the fps\n",
    "\n",
    "    # fps will be number of frame processed in given time frame \n",
    "\n",
    "    # since their will be most of time error of 0.001 second \n",
    "\n",
    "    # we will be subtracting it to get more accurate result \n",
    "\n",
    "    fps = 1/(new_frame_time-prev_frame_time) \n",
    "\n",
    "    prev_frame_time = new_frame_time \n",
    "\n",
    "    # converting the fps into integer \n",
    "\n",
    "    fps = int(fps) \n",
    "\n",
    "    # converting the fps to string so that we can display it on frame \n",
    "\n",
    "    # by using putText function \n",
    "\n",
    "    fps = str(fps) \n",
    "\n",
    "    # puting the FPS count on the frame \n",
    "\n",
    "    cv2.putText(gray, fps, (10, 10), font, 0.4, (100, 255, 0), 2, cv2.LINE_AA) \n",
    "\n",
    "    # displaying the frame with fps\n",
    "     #frame[:,:,1] = frame[:,:,2]  = 0                \n",
    "    frame[:,:,1] = frame[:,:,0]\n",
    "    frame[:,:,2] = frame[:,:,0]\n",
    "\n",
    "    cv2.imshow('frame', gray) \n",
    "\n",
    "    # press 'Q' if you want to exit \n",
    "\n",
    "    if cv2.waitKey(1) & 0xFF == ord('q'): \n",
    "\n",
    "        break\n",
    "  \n",
    "# When everything done, release the capture \n",
    "cap.release() \n",
    "# Destroy the all windows now \n",
    "cv2.destroyAllWindows() \n"
   ]
  },
  {
   "cell_type": "markdown",
   "metadata": {},
   "source": [
    "# 3. Line,shape printing"
   ]
  },
  {
   "cell_type": "code",
   "execution_count": 6,
   "metadata": {},
   "outputs": [],
   "source": [
    "img=np.full((400,400,3),255,np.uint8)\n",
    "\n",
    "cv2.line(img,(50,50),(200,50),(0,0,255)) # img, p1,p2,color,thickness\n",
    "cv2.line(img,(50,100),(200,100),(255,0,255),3)\n",
    "cv2.line(img,(50,150),(200,150),(255,0,0),10)\n",
    "\n",
    "\n",
    "cv2.line(img,(250,50),(350,100),(255,0,0),1,cv2.LINE_4)\n",
    "\n",
    "cv2.arrowedLine(img,(50,200),(150,200),(0,0,255),1)\n",
    "\n",
    "cv2.drawMarker(img,(50,350),(0,0,255),cv2.MARKER_CROSS)\n",
    "cv2.drawMarker(img,(100,350),(0,0,255),cv2.MARKER_TILTED_CROSS)\n",
    "cv2.drawMarker(img,(150,350),(0,0,255),cv2.MARKER_STAR)\n",
    "cv2.drawMarker(img,(200,350),(0,0,255),cv2.MARKER_DIAMOND)\n",
    "cv2.drawMarker(img,(250,350),(0,0,255),cv2.MARKER_SQUARE)\n",
    "cv2.drawMarker(img,(300,350),(0,0,255),cv2.MARKER_TRIANGLE_UP)\n",
    "cv2.drawMarker(img,(350,350),(0,0,255),cv2.MARKER_TRIANGLE_DOWN)\n",
    "\n",
    "\n",
    "cv2.imshow('img',img)\n",
    "cv2.waitKey()\n",
    "cv2.destroyAllWindows()"
   ]
  },
  {
   "cell_type": "code",
   "execution_count": 7,
   "metadata": {},
   "outputs": [],
   "source": [
    "img=np.full((400,400,3),255,np.uint8)\n",
    "cv2.rectangle(img,(50,50),(150,100),(0,0,255),2)\n",
    "cv2.rectangle(img,(50,150),(150,200),(0,0,128),-1)\n",
    "\n",
    "cv2.circle(img,(300,120),30,(255,255,0),-1,cv2.LINE_AA)\n",
    "cv2.circle(img,(300,120),60,(255,0,0),3,cv2.LINE_AA)\n",
    "\n",
    "pts=np.array([[250,250],[300,250],[300,300],[350,300],[350,350],[250,350]])\n",
    "cv2.polylines(img,[pts],True,(2555,0,255),2)#True:it close, False: it doesn't close\n",
    "\n",
    "\n",
    "cv2.imshow('img',img)\n",
    "cv2.waitKey()\n",
    "cv2.destroyAllWindows()"
   ]
  },
  {
   "cell_type": "markdown",
   "metadata": {},
   "source": [
    "# 4.String"
   ]
  },
  {
   "cell_type": "code",
   "execution_count": 8,
   "metadata": {},
   "outputs": [],
   "source": [
    "img=np.full((500,800,3),255,np.uint8)\n",
    "cv2.putText(img,\"FONT_HERSHEY_SIMPLEX\",(20,50),cv2.FONT_HERSHEY_SIMPLEX,1,(0,0,255))\n",
    "cv2.putText(img,\"FONT_HERSHEY_PLAIN\",(20,100),cv2.FONT_HERSHEY_PLAIN,1,(0,0,255))\n",
    "cv2.putText(img,\"FONT_HERSHEY_PLAIN\",(20,150),cv2.FONT_HERSHEY_PLAIN | cv2.FONT_ITALIC,1,(0,0,255))\n",
    "\n",
    "\n",
    "\n",
    "cv2.imshow('img',img)\n",
    "cv2.waitKey()\n",
    "cv2.destroyAllWindows()"
   ]
  },
  {
   "cell_type": "markdown",
   "metadata": {},
   "source": [
    "\n",
    "# 5. Keyboard, Mouse"
   ]
  },
  {
   "cell_type": "code",
   "execution_count": 9,
   "metadata": {},
   "outputs": [],
   "source": [
    "cap=cv2.VideoCapture(\"stopwatch.avi\")\n",
    "if not cap.isOpened():\n",
    "    print(\"Vidoe open failed\")\n",
    "    \n",
    "else:\n",
    "    while True:\n",
    "        ret,frame=cap.read()\n",
    "        if not ret: break\n",
    "        cv2.imshow(\"frame\",frame)\n",
    "        keycode=cv2.waitKey()\n",
    "        if keycode==27 or keycode==ord('q'):break #ESC #ord:function to covert ascii code into integer\n",
    "cap.release()\n",
    "cv2.destroyAllWindows()"
   ]
  },
  {
   "cell_type": "code",
   "execution_count": 10,
   "metadata": {},
   "outputs": [
    {
     "name": "stdout",
     "output_type": "stream",
     "text": [
      "EVENT_LBUTTON:235,184\n",
      "EVENT_LBUTTONUP: 254, 288\n",
      "EVENT_LBUTTON:291,234\n",
      "EVENT_LBUTTONUP: 466, 396\n"
     ]
    }
   ],
   "source": [
    "def on_mouse(event,x,y,flags,param):\n",
    "    global oldx,oldy\n",
    "    \n",
    "    if event==cv2.EVENT_LBUTTONDOWN:\n",
    "        oldx,oldy=x,y\n",
    "        print('EVENT_LBUTTON:%d,%d'%(x,y))\n",
    "    elif event==cv2.EVENT_LBUTTONUP:\n",
    "        print('EVENT_LBUTTONUP: %d, %d' %(x,y))\n",
    "        cv2.rectangle(img,(oldx,oldy),(x,y),(0,255,255),10)\n",
    "        cv2.imshow(\"img\",img)\n",
    "        oldx,oldy=x,y\n",
    "        \n",
    "img=cv2.imread('sunset.jpg')\n",
    "cv2.namedWindow('img')\n",
    "cv2.setMouseCallback('img',on_mouse)\n",
    "\n",
    "cv2.imshow('img',img)\n",
    "cv2.waitKey()\n",
    "cv2.destroyAllWindows()"
   ]
  },
  {
   "cell_type": "code",
   "execution_count": 45,
   "metadata": {},
   "outputs": [
    {
     "name": "stdout",
     "output_type": "stream",
     "text": [
      "EVENT_LBUTTON:122,139\n",
      "EVENT_LBUTTONUP: 268, 190\n"
     ]
    }
   ],
   "source": [
    "def on_mouse(event,x,y,flags,param):\n",
    "    global oldx,oldy\n",
    "    \n",
    "    if event==cv2.EVENT_LBUTTONDOWN:\n",
    "        oldx,oldy=x,y\n",
    "        print('EVENT_LBUTTON:%d,%d'%(x,y))\n",
    "    elif event==cv2.EVENT_LBUTTONUP:\n",
    "        print('EVENT_LBUTTONUP: %d, %d' %(x,y))\n",
    "        \n",
    "        \n",
    "    elif event==cv2.EVENT_MOUSEMOVE:\n",
    "        if flags& cv2.EVENT_FLAG_LBUTTON:\n",
    "            cv2.rectangle(img,(oldx,oldy),(x,y),(0,255,255),10)\n",
    "            cv2.imshow(\"img\",img)\n",
    "            oldx,oldy=x,y\n",
    "        \n",
    "img=cv2.imread('sunset.jpg')\n",
    "cv2.namedWindow('img')\n",
    "cv2.setMouseCallback('img',on_mouse)\n",
    "\n",
    "cv2.imshow('img',img)\n",
    "cv2.waitKey()\n",
    "cv2.destroyAllWindows()"
   ]
  },
  {
   "cell_type": "code",
   "execution_count": null,
   "metadata": {},
   "outputs": [],
   "source": []
  },
  {
   "cell_type": "code",
   "execution_count": 81,
   "metadata": {},
   "outputs": [],
   "source": [
    "import time\n",
    "import cv2\n",
    "import numpy as np \n",
    "    \n",
    "#cap = cv2.VideoCapture(0)\n",
    "cap = cv2.VideoCapture('stopwatch.avi')\n",
    "\n",
    "# used to record the time when we processed last frame \n",
    "prev_frame_time = 0 \n",
    "# used to record the time at which we processed current frame \n",
    "new_frame_time = 0\n",
    "\n",
    "\n",
    "if not cap.isOpened():\n",
    "    print(\"Video open failed!\")\n",
    "else :    \n",
    "    \n",
    "    w = round(cap.get(cv2.CAP_PROP_FRAME_WIDTH))\n",
    "    h = round(cap.get(cv2.CAP_PROP_FRAME_HEIGHT))\n",
    "    fps = cap.get(cv2.CAP_PROP_FPS)\n",
    "    \n",
    "    \n",
    "    fourcc = cv2.VideoWriter_fourcc(*'DIVX') # *'DIVX' == 'D', 'I', 'V', 'X'\n",
    "    \n",
    "    outputVideo = cv2.VideoWriter('output.avi', fourcc, fps/2, (w, h))\n",
    "    \n",
    "    \n",
    "    while True:\n",
    "        ret, frame = cap.read()\n",
    "        \n",
    "        \n",
    "        if not ret:  break\n",
    "        \n",
    "        # time when we finish processing for this frame \n",
    "        new_frame_time = time.time() \n",
    "        \n",
    "        # Calculating the fps\n",
    "        \n",
    "        fps = 1/(new_frame_time-prev_frame_time) \n",
    "        prev_frame_time = new_frame_time \n",
    "        new_frame_time = time.time()\n",
    "        \n",
    "        fps = int(fps)# converting the fps into integer \n",
    "        fps = str(fps)# converting the fps to string \n",
    "        \n",
    "        \n",
    "        \n",
    "           \n",
    "        #frame[:,:,1] = frame[:,:,2]  = 0                \n",
    "        frame[:,:,1] = frame[:,:,0]\n",
    "        frame[:,:,2] = frame[:,:,0]\n",
    "        \n",
    "        cv2.putText(frame, fps, (10, 10),cv2.FONT_HERSHEY_SIMPLEX , 0.46, (255,255, 0),1 , cv2.LINE_AA)\n",
    "        \n",
    "        \n",
    "    \n",
    "        cv2.imshow('frame2', frame)\n",
    "            \n",
    "        outputVideo.write(frame)\n",
    "    \n",
    "        if cv2.waitKey(10) == 27:  break   # ESC\n",
    "\n",
    "outputVideo.release()\n",
    "cap.release()\n",
    "cv2.destroyAllWindows()"
   ]
  },
  {
   "cell_type": "code",
   "execution_count": 79,
   "metadata": {},
   "outputs": [
    {
     "name": "stdout",
     "output_type": "stream",
     "text": [
      "Add any two digits.\n",
      "Sum = 3\n"
     ]
    }
   ],
   "source": [
    "def callback(a, b):\n",
    "    print('Sum = {0}'.format(a+b))\n",
    "\n",
    "def main(a,b,f=None):\n",
    "    print('Add any two digits.')\n",
    "    if f != None:\n",
    "        f(a,b)\n",
    "\n",
    "main(1, 2, callback)"
   ]
  },
  {
   "cell_type": "code",
   "execution_count": null,
   "metadata": {},
   "outputs": [],
   "source": []
  }
 ],
 "metadata": {
  "kernelspec": {
   "display_name": "Python 3",
   "language": "python",
   "name": "python3"
  },
  "language_info": {
   "codemirror_mode": {
    "name": "ipython",
    "version": 3
   },
   "file_extension": ".py",
   "mimetype": "text/x-python",
   "name": "python",
   "nbconvert_exporter": "python",
   "pygments_lexer": "ipython3",
   "version": "3.8.5"
  }
 },
 "nbformat": 4,
 "nbformat_minor": 4
}
