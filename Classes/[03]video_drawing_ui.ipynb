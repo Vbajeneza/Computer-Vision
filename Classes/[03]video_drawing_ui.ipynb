{
 "cells": [
  {
   "cell_type": "code",
   "execution_count": 1,
   "metadata": {},
   "outputs": [],
   "source": [
    "import cv2\n",
    "import numpy as np"
   ]
  },
  {
   "cell_type": "markdown",
   "metadata": {},
   "source": [
    "# 1. Video / Camera 읽기"
   ]
  },
  {
   "cell_type": "code",
   "execution_count": 2,
   "metadata": {},
   "outputs": [],
   "source": [
    "cap = cv2.VideoCapture('stopwatch.avi')\n",
    "#cap = cv2.VideoCapture(0)\n",
    "\n",
    "if not cap.isOpened():\n",
    "    print(\"Video open failed!\")\n",
    "else :\n",
    "    \n",
    "    while True:\n",
    "        ret, frame = cap.read()\n",
    "        #(ret, frame) = cap.read()\n",
    "\n",
    "        if not ret:  break\n",
    "\n",
    "        cv2.imshow('frame', frame)\n",
    "\n",
    "        if cv2.waitKey(10) == 27:  break   # ESC\n",
    "cap.release()\n",
    "cv2.destroyAllWindows()"
   ]
  },
  {
   "cell_type": "code",
   "execution_count": 3,
   "metadata": {},
   "outputs": [
    {
     "name": "stdout",
     "output_type": "stream",
     "text": [
      "(5, 20, 'hello')\n",
      "5\n",
      "20\n",
      "hello\n"
     ]
    }
   ],
   "source": [
    "def fun() :\n",
    "    return (5, 20, 'hello')\n",
    "\n",
    "a = fun()\n",
    "print(a)\n",
    "p1, p2, p3 = fun()\n",
    "print(p1)\n",
    "print(p2)\n",
    "print(p3)\n",
    "\n",
    "p1, p2, _ = fun()"
   ]
  },
  {
   "cell_type": "markdown",
   "metadata": {},
   "source": [
    "# 2. 동영상 출력"
   ]
  },
  {
   "cell_type": "code",
   "execution_count": 6,
   "metadata": {},
   "outputs": [],
   "source": [
    "cap = cv2.VideoCapture('stopwatch.avi')"
   ]
  },
  {
   "cell_type": "code",
   "execution_count": 5,
   "metadata": {},
   "outputs": [
    {
     "name": "stdout",
     "output_type": "stream",
     "text": [
      "640 480 30.0\n"
     ]
    }
   ],
   "source": [
    "w = round(cap.get(cv2.CAP_PROP_FRAME_WIDTH))\n",
    "h = round(cap.get(cv2.CAP_PROP_FRAME_HEIGHT))\n",
    "fps = cap.get(cv2.CAP_PROP_FPS)\n",
    "print(w, h, fps)"
   ]
  },
  {
   "cell_type": "code",
   "execution_count": 7,
   "metadata": {},
   "outputs": [],
   "source": [
    "cap.release()"
   ]
  },
  {
   "cell_type": "code",
   "execution_count": 8,
   "metadata": {},
   "outputs": [],
   "source": [
    "#cap = cv2.VideoCapture(0)\n",
    "cap = cv2.VideoCapture('stopwatch.avi')\n",
    "\n",
    "if not cap.isOpened():\n",
    "    print(\"Video open failed!\")\n",
    "else :    \n",
    "    \n",
    "    w = round(cap.get(cv2.CAP_PROP_FRAME_WIDTH))\n",
    "    h = round(cap.get(cv2.CAP_PROP_FRAME_HEIGHT))\n",
    "    fps = cap.get(cv2.CAP_PROP_FPS)\n",
    "    \n",
    "    \n",
    "    fourcc = cv2.VideoWriter_fourcc(*'DIVX') # *'DIVX' == 'D', 'I', 'V', 'X'\n",
    "    \n",
    "    outputVideo = cv2.VideoWriter('output.avi', fourcc, fps/2, (w, h))\n",
    "    \n",
    "    \n",
    "    \n",
    "    while True:\n",
    "        ret, frame = cap.read()\n",
    "        \n",
    "        \n",
    "        if not ret:  break\n",
    "            \n",
    "        cv2.imshow('frame', frame)\n",
    "            \n",
    "        #frame[:,:,1] = frame[:,:,2]  = 0  # save it as blue            \n",
    "        frame[:,:,1] = frame[:,:,0]\n",
    "        frame[:,:,2] = frame[:,:,0]# save it as gray image\n",
    "        \n",
    "        \n",
    "        cv2.imshow('frame2', frame)\n",
    "            \n",
    "        outputVideo.write(frame)\n",
    "    \n",
    "    \n",
    "        \n",
    "\n",
    "        if cv2.waitKey(10) == 27:  break   # ESC\n",
    "\n",
    "outputVideo.release()#\n",
    "cap.release()\n",
    "cv2.destroyAllWindows()"
   ]
  },
  {
   "cell_type": "markdown",
   "metadata": {},
   "source": [
    "# 3. 라인, 도형출력"
   ]
  },
  {
   "cell_type": "code",
   "execution_count": 11,
   "metadata": {},
   "outputs": [],
   "source": [
    "img = np.full((400, 400, 3), 128, np.uint8)\n",
    "\n",
    "cv2.line(img, (50, 50), (200, 50), (0, 0, 255))\n",
    "cv2.line(img, (50, 100), (200, 100), (255, 0, 255), 3)\n",
    "cv2.line(img, (50, 150), (200, 150), (255, 0, 0), 10)\n",
    "\n",
    "cv2.line(img, (250, 50), (350, 100), (0, 0, 255), 1, cv2.LINE_4)\n",
    "cv2.line(img, (250, 70), (350, 120), (255, 0, 255), 1, cv2.LINE_8)\n",
    "cv2.line(img, (250, 90), (350, 140), (255, 0, 0), 1, cv2.LINE_AA)\n",
    "\n",
    "cv2.arrowedLine(img, (50, 200), (150, 200), (0, 0, 255), 1)\n",
    "cv2.arrowedLine(img, (50, 250), (350, 250), (255, 0, 255), 1)\n",
    "cv2.arrowedLine(img, (50, 300), (350, 300), (255, 0, 0), 1, cv2.LINE_8, 0, 0.05)\n",
    "\n",
    "cv2.drawMarker(img, (50, 350), (0, 0, 255), cv2.MARKER_CROSS)\n",
    "cv2.drawMarker(img, (100, 350), (0, 0, 255), cv2.MARKER_TILTED_CROSS)\n",
    "cv2.drawMarker(img, (150, 350), (0, 0, 255), cv2.MARKER_STAR)\n",
    "cv2.drawMarker(img, (200, 350), (0, 0, 255), cv2.MARKER_DIAMOND)\n",
    "cv2.drawMarker(img, (250, 350), (0, 0, 255), cv2.MARKER_SQUARE)\n",
    "cv2.drawMarker(img, (300, 350), (0, 0, 255), cv2.MARKER_TRIANGLE_UP)\n",
    "cv2.drawMarker(img, (350, 350), (0, 0, 255), cv2.MARKER_TRIANGLE_DOWN)\n",
    "\n",
    "cv2.imshow(\"img\", img)\n",
    "cv2.waitKey()\n",
    "cv2.destroyAllWindows()"
   ]
  },
  {
   "cell_type": "code",
   "execution_count": 13,
   "metadata": {},
   "outputs": [],
   "source": [
    "img = np.full((400, 400, 3), 255, np.uint8)\n",
    "\n",
    "cv2.rectangle(img, (50, 50), (150, 100), (0, 0, 255), 2)\n",
    "cv2.rectangle(img, (50, 150), (150, 200), (0, 0, 128), -1)\n",
    "\n",
    "cv2.circle(img, (300, 120), 30, (255, 255, 0), -1, cv2.LINE_AA)\n",
    "cv2.circle(img, (300, 120), 60, (255, 0, 0), 3, cv2.LINE_AA)\n",
    "    \n",
    "    \n",
    "pts = np.array([[250, 250], [300, 250], [300, 300], [350, 300], [350, 350], [250, 350]])\n",
    "cv2.polylines(img, [pts], True, (255, 0, 255), 2)\n",
    "\n",
    "cv2.imshow(\"img\", img)\n",
    "cv2.waitKey()\n",
    "cv2.destroyAllWindows()"
   ]
  },
  {
   "cell_type": "markdown",
   "metadata": {},
   "source": [
    "# 4. 문자열"
   ]
  },
  {
   "cell_type": "code",
   "execution_count": 14,
   "metadata": {},
   "outputs": [],
   "source": [
    "img = np.full((500, 800, 3), 255, np.uint8)\n",
    "\n",
    "cv2.putText(img, \"FONT_HERSHEY_SIMPLEX\", (20, 50), cv2.FONT_HERSHEY_SIMPLEX, 1, (0, 0, 255))\n",
    "cv2.putText(img, \"FONT_HERSHEY_PLAIN\", (20, 100), cv2.FONT_HERSHEY_PLAIN, 1, (0, 0, 255))\n",
    "cv2.putText(img, \"FONT_HERSHEY_DUPLEX\", (20, 150), cv2.FONT_HERSHEY_DUPLEX, 1, (0, 0, 255))\n",
    "cv2.putText(img, \"FONT_HERSHEY_COMPLEX\", (20, 200), cv2.FONT_HERSHEY_COMPLEX, 1, (255, 0, 0))\n",
    "cv2.putText(img, \"FONT_HERSHEY_TRIPLEX\", (20, 250), cv2.FONT_HERSHEY_TRIPLEX, 1, (255, 0, 0))\n",
    "cv2.putText(img, \"FONT_HERSHEY_COMPLEX_SMALL\", (20, 300), cv2.FONT_HERSHEY_COMPLEX_SMALL, 1, (255, 0, 0))\n",
    "cv2.putText(img, \"FONT_HERSHEY_SCRIPT_SIMPLEX\", (20, 350), cv2.FONT_HERSHEY_SCRIPT_SIMPLEX, 1, (255, 0, 255))\n",
    "cv2.putText(img, \"FONT_HERSHEY_SCRIPT_COMPLEX\", (20, 400), cv2.FONT_HERSHEY_SCRIPT_COMPLEX, 1, (255, 0, 255))\n",
    "cv2.putText(img, \"FONT_HERSHEY_COMPLEX | FONT_ITALIC\", (20, 450), cv2.FONT_HERSHEY_COMPLEX | cv2.FONT_ITALIC, 1, (255, 0, 0))\n",
    "\n",
    "cv2.imshow(\"img\", img)\n",
    "cv2.waitKey()\n",
    "cv2.destroyAllWindows()"
   ]
  },
  {
   "cell_type": "markdown",
   "metadata": {},
   "source": [
    "# 5. 키보드, 마우스"
   ]
  },
  {
   "cell_type": "code",
   "execution_count": 15,
   "metadata": {},
   "outputs": [],
   "source": [
    "cap = cv2.VideoCapture('stopwatch.avi')\n",
    "\n",
    "if not cap.isOpened():\n",
    "    print(\"Video open failed!\")\n",
    "else :\n",
    "    \n",
    "    while True:\n",
    "        \n",
    "        ret, frame = cap.read()\n",
    "\n",
    "        if not ret:  break\n",
    "\n",
    "        cv2.imshow('frame', frame)\n",
    "        \n",
    "        keycode = cv2.waitKey()\n",
    "        if keycode == 27 or keycode == ord('q'):  break   # ESC\n",
    "cap.release()\n",
    "cv2.destroyAllWindows()"
   ]
  },
  {
   "cell_type": "code",
   "execution_count": 16,
   "metadata": {},
   "outputs": [
    {
     "name": "stdout",
     "output_type": "stream",
     "text": [
      "EVENT_LBUTTONDOWN: 196, 172\n",
      "EVENT_LBUTTONUP: 200, 172\n",
      "EVENT_LBUTTONDOWN: 211, 110\n",
      "EVENT_LBUTTONUP: 341, 203\n",
      "EVENT_LBUTTONDOWN: 110, 236\n",
      "EVENT_LBUTTONUP: 270, 351\n",
      "EVENT_LBUTTONDOWN: 122, 149\n",
      "EVENT_LBUTTONUP: 117, 136\n",
      "EVENT_LBUTTONDOWN: 145, 146\n",
      "EVENT_LBUTTONUP: 194, 197\n",
      "EVENT_LBUTTONDOWN: 370, 86\n",
      "EVENT_LBUTTONUP: 462, 240\n",
      "EVENT_LBUTTONDOWN: 420, 260\n",
      "EVENT_LBUTTONUP: 313, 315\n"
     ]
    }
   ],
   "source": [
    "def on_mouse(event, x, y, flags, param):\n",
    "    global oldx, oldy\n",
    "\n",
    "    if event == cv2.EVENT_LBUTTONDOWN:\n",
    "        oldx, oldy = x, y\n",
    "        print('EVENT_LBUTTONDOWN: %d, %d' % (x, y))\n",
    "\n",
    "    elif event == cv2.EVENT_LBUTTONUP:\n",
    "        print('EVENT_LBUTTONUP: %d, %d' % (x, y))\n",
    "        cv2.rectangle(img, (oldx, oldy), (x, y), (0, 255, 255), 10)\n",
    "        cv2.imshow('img', img)\n",
    "        oldx, oldy = x, y\n",
    "\n",
    "img = cv2.imread('sunset.jpg')\n",
    "\n",
    "\n",
    "cv2.namedWindow('img')\n",
    "cv2.setMouseCallback('img', on_mouse)\n",
    "\n",
    "cv2.imshow('img', img)\n",
    "cv2.waitKey()\n",
    "cv2.destroyAllWindows()"
   ]
  },
  {
   "cell_type": "code",
   "execution_count": 17,
   "metadata": {},
   "outputs": [
    {
     "name": "stdout",
     "output_type": "stream",
     "text": [
      "EVENT_LBUTTONDOWN: 11, 104\n",
      "EVENT_LBUTTONUP: 145, 136\n",
      "EVENT_LBUTTONDOWN: 244, 72\n",
      "EVENT_LBUTTONUP: 288, 78\n",
      "EVENT_LBUTTONDOWN: 310, 75\n",
      "EVENT_LBUTTONUP: 312, 165\n",
      "EVENT_LBUTTONDOWN: 313, 93\n",
      "EVENT_LBUTTONUP: 374, 175\n",
      "EVENT_LBUTTONDOWN: 323, 145\n",
      "EVENT_LBUTTONUP: 343, 130\n",
      "EVENT_LBUTTONDOWN: 366, 71\n",
      "EVENT_LBUTTONUP: 409, 129\n",
      "EVENT_LBUTTONDOWN: 413, 83\n",
      "EVENT_LBUTTONUP: 444, 130\n",
      "EVENT_LBUTTONDOWN: 415, 100\n",
      "EVENT_LBUTTONUP: 438, 96\n",
      "EVENT_LBUTTONDOWN: 423, 80\n",
      "EVENT_LBUTTONUP: 457, 68\n",
      "EVENT_LBUTTONDOWN: 237, 178\n",
      "EVENT_LBUTTONUP: 237, 227\n",
      "EVENT_LBUTTONDOWN: 245, 190\n",
      "EVENT_LBUTTONUP: 274, 196\n",
      "EVENT_LBUTTONDOWN: 308, 190\n",
      "EVENT_LBUTTONUP: 306, 235\n",
      "EVENT_LBUTTONDOWN: 285, 193\n",
      "EVENT_LBUTTONUP: 321, 191\n",
      "EVENT_LBUTTONDOWN: 338, 183\n",
      "EVENT_LBUTTONUP: 330, 226\n",
      "EVENT_LBUTTONDOWN: 348, 186\n",
      "EVENT_LBUTTONUP: 353, 209\n",
      "EVENT_LBUTTONDOWN: 353, 188\n",
      "EVENT_LBUTTONUP: 390, 175\n",
      "EVENT_LBUTTONDOWN: 60, 280\n",
      "EVENT_LBUTTONUP: 66, 372\n",
      "EVENT_LBUTTONDOWN: 1, 299\n",
      "EVENT_LBUTTONUP: 143, 277\n",
      "EVENT_LBUTTONDOWN: 32, 386\n",
      "EVENT_LBUTTONUP: 150, 368\n",
      "EVENT_LBUTTONDOWN: 250, 380\n",
      "EVENT_LBUTTONUP: 261, 403\n",
      "EVENT_LBUTTONDOWN: 315, 311\n",
      "EVENT_LBUTTONUP: 397, 327\n",
      "EVENT_LBUTTONUP: 292, 442\n",
      "EVENT_LBUTTONDOWN: 450, 130\n",
      "EVENT_LBUTTONUP: 432, 187\n",
      "EVENT_LBUTTONDOWN: 316, 205\n",
      "EVENT_LBUTTONUP: 250, 186\n",
      "EVENT_LBUTTONDOWN: 264, 133\n",
      "EVENT_LBUTTONUP: 398, 87\n",
      "EVENT_LBUTTONDOWN: 386, 103\n",
      "EVENT_LBUTTONUP: 379, 130\n"
     ]
    }
   ],
   "source": [
    "def on_mouse(event, x, y, flags, param):\n",
    "    global oldx, oldy\n",
    "\n",
    "    if event == cv2.EVENT_LBUTTONDOWN:\n",
    "        oldx, oldy = x, y\n",
    "        print('EVENT_LBUTTONDOWN: %d, %d' % (x, y))\n",
    "\n",
    "    elif event == cv2.EVENT_LBUTTONUP:\n",
    "        print('EVENT_LBUTTONUP: %d, %d' % (x, y))\n",
    "\n",
    "    elif event == cv2.EVENT_MOUSEMOVE:\n",
    "        if flags & cv2.EVENT_FLAG_LBUTTON:\n",
    "            cv2.line(img, (oldx, oldy), (x, y), (0, 255, 255), 10)\n",
    "            cv2.imshow('img', img)\n",
    "            oldx, oldy = x, y\n",
    "\n",
    "\n",
    "img = cv2.imread('sunset.jpg')\n",
    "\n",
    "\n",
    "cv2.namedWindow('img')\n",
    "cv2.setMouseCallback('img', on_mouse)\n",
    "\n",
    "cv2.imshow('img', img)\n",
    "cv2.waitKey()\n",
    "cv2.destroyAllWindows()"
   ]
  },
  {
   "cell_type": "code",
   "execution_count": null,
   "metadata": {},
   "outputs": [],
   "source": []
  }
 ],
 "metadata": {
  "kernelspec": {
   "display_name": "Python 3",
   "language": "python",
   "name": "python3"
  },
  "language_info": {
   "codemirror_mode": {
    "name": "ipython",
    "version": 3
   },
   "file_extension": ".py",
   "mimetype": "text/x-python",
   "name": "python",
   "nbconvert_exporter": "python",
   "pygments_lexer": "ipython3",
   "version": "3.8.5"
  }
 },
 "nbformat": 4,
 "nbformat_minor": 4
}
